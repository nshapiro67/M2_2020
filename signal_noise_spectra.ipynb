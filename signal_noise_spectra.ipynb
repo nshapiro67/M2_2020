{
 "cells": [
  {
   "cell_type": "markdown",
   "metadata": {},
   "source": [
    "### Example of comparing noise and signal Fourier amplitude spectra for [M 5.4 - 31 km SSE of Karyes, Greece Earthquake](https://earthquake.usgs.gov/earthquakes/eventpage/us6000c1rq/executive)\n",
    "2020-09-26 22:50:25 (UTC)<br><br>\n",
    "Downloading 10 min of noise and 10 min of signal of vertical component recording (**HHZ** component) by station **OGCN** (network code: **FR**) from the **RESIF** data center<br>\n",
    "\n",
    "Computing Fourier transforms and plotting spectral amplitudes \n",
    "\n",
    "---\n",
    "\n"
   ]
  },
  {
   "cell_type": "code",
   "execution_count": 6,
   "metadata": {},
   "outputs": [
    {
     "data": {
      "application/vnd.jupyter.widget-view+json": {
       "model_id": "7b631618df85431ebad0b3956bb81e89",
       "version_major": 2,
       "version_minor": 0
      },
      "text/plain": [
       "Canvas(toolbar=Toolbar(toolitems=[('Home', 'Reset original view', 'home', 'home'), ('Back', 'Back to previous …"
      ]
     },
     "metadata": {},
     "output_type": "display_data"
    }
   ],
   "source": [
    "#------------------------ importing basic packages\n",
    "import matplotlib.pyplot as plt\n",
    "import numpy as np\n",
    "#------------------------ importing ObsPy functions\n",
    "from obspy import read\n",
    "from obspy.clients.fdsn import Client\n",
    "from obspy import UTCDateTime\n",
    "\n",
    "#------------------ plotting mode\n",
    "%matplotlib widget\n",
    "#----------------------------\n",
    "\n",
    "\n",
    "#------------------------ selecting an FDSN datacenter\n",
    "client = Client('RESIF')\n",
    "\n",
    "\n",
    "#-------------------- defining duration of the downloaded time series in sec\n",
    "t_duration =10*60\n",
    "\n",
    "\n",
    "#--------------- downloading noise window\n",
    "tstart = UTCDateTime(\"2020-09-26T22:43:10.000\")\n",
    "st1 = client.get_waveforms(\"FR\", \"OGCN\", \"*\", \"HHZ\", tstart, tstart + t_duration, attach_response=True)\n",
    "noise = st1[0]\n",
    "noise.detrend()\n",
    "\n",
    "#--------------- downloading signal window\n",
    "tstart = UTCDateTime(\"2020-09-26T22:53:10.000\")\n",
    "st1 = client.get_waveforms(\"FR\", \"OGCN\", \"*\", \"HHZ\", tstart, tstart + t_duration, attach_response=True)\n",
    "signal = st1[0]\n",
    "signal.detrend()\n",
    "\n",
    "\n",
    "#-----------------------------------------------\n",
    "# function to compute Fourier spectra\n",
    "#-----------------------------------------------\n",
    "def signal_fft1d(sig,dt):\n",
    "    npt = np.size(sig)\n",
    "    spe = np.fft.fft(sig)\n",
    "    freq = np.fft.fftfreq(npt,dt)\n",
    "    sp_amp = np.sqrt(spe.real**2+spe.imag**2)\n",
    "    sp_pha = np.arctan2(spe.imag, spe.real)\n",
    "    npt_spe = int(npt/2)\n",
    "    return npt_spe, sp_amp[0:npt_spe],sp_pha[0:npt_spe],freq[0:npt_spe]\n",
    "\n",
    "#-----------------------------------------------\n",
    "# function to smooth an array\n",
    "#-----------------------------------------------\n",
    "def smooth(y, box_pts):\n",
    "    box = np.ones(box_pts)/box_pts\n",
    "    y_smooth = np.convolve(y, box, mode='same')\n",
    "    return y_smooth\n",
    "\n",
    "nspe, n_spamp, sppha, fr = signal_fft1d(noise.data,noise.stats.delta)\n",
    "nspe, s_spamp, sppha, fr = signal_fft1d(signal.data,signal.stats.delta)\n",
    "\n",
    "\n",
    "plt.figure()\n",
    "plt.loglog(fr,smooth(n_spamp,20),'b')\n",
    "plt.loglog(fr,smooth(s_spamp,20),'r')\n",
    "plt.xlim(.005,20)\n",
    "plt.xlabel('frequency(Hz)')\n",
    "plt.show()\n",
    "\n"
   ]
  },
  {
   "cell_type": "code",
   "execution_count": null,
   "metadata": {},
   "outputs": [],
   "source": []
  }
 ],
 "metadata": {
  "kernelspec": {
   "display_name": "Python 3",
   "language": "python",
   "name": "python3"
  },
  "language_info": {
   "codemirror_mode": {
    "name": "ipython",
    "version": 3
   },
   "file_extension": ".py",
   "mimetype": "text/x-python",
   "name": "python",
   "nbconvert_exporter": "python",
   "pygments_lexer": "ipython3",
   "version": "3.8.3"
  }
 },
 "nbformat": 4,
 "nbformat_minor": 4
}
